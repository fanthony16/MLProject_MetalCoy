{
 "cells": [
  {
   "cell_type": "code",
   "execution_count": 2,
   "id": "d256f23e",
   "metadata": {},
   "outputs": [],
   "source": [
    "import pandas as pd\n",
    "import numpy as np\n",
    "import seaborn as sns\n",
    "import matplotlib.pyplot as plt\n",
    "from sklearn.model_selection import train_test_split\n",
    "from sklearn.feature_selection import mutual_info_regression, mutual_info_classif\n",
    "from sklearn.metrics import r2_score\n",
    "from sklearn.linear_model import LogisticRegression, LinearRegression, Lasso\n",
    "from sklearn.svm import SVR\n",
    "from sklearn.ensemble import RandomForestRegressor"
   ]
  },
  {
   "cell_type": "markdown",
   "id": "32871245",
   "metadata": {},
   "source": [
    "### Import CSV Data as panda data frame"
   ]
  },
  {
   "cell_type": "code",
   "execution_count": 3,
   "id": "5794c144",
   "metadata": {},
   "outputs": [],
   "source": [
    "df = pd.read_csv('C:/Users/Alicia/Desktop/Self_Development/Python/ML_Projects/MetalManufacturing/src/notebook/data/MetalCoy_Dataset.csv')"
   ]
  },
  {
   "cell_type": "code",
   "execution_count": 4,
   "id": "b93af0b8",
   "metadata": {},
   "outputs": [],
   "source": [
    "df_copy = df.copy()"
   ]
  },
  {
   "cell_type": "markdown",
   "id": "6654e6ef",
   "metadata": {},
   "source": [
    "### Show to 5 records of the dataset"
   ]
  },
  {
   "cell_type": "code",
   "execution_count": 5,
   "id": "4af2e3d3",
   "metadata": {},
   "outputs": [
    {
     "data": {
      "text/html": [
       "<div>\n",
       "<style scoped>\n",
       "    .dataframe tbody tr th:only-of-type {\n",
       "        vertical-align: middle;\n",
       "    }\n",
       "\n",
       "    .dataframe tbody tr th {\n",
       "        vertical-align: top;\n",
       "    }\n",
       "\n",
       "    .dataframe thead th {\n",
       "        text-align: right;\n",
       "    }\n",
       "</style>\n",
       "<table border=\"1\" class=\"dataframe\">\n",
       "  <thead>\n",
       "    <tr style=\"text-align: right;\">\n",
       "      <th></th>\n",
       "      <th>Lifespan</th>\n",
       "      <th>partType</th>\n",
       "      <th>microstructure</th>\n",
       "      <th>coolingRate</th>\n",
       "      <th>quenchTime</th>\n",
       "      <th>forgeTime</th>\n",
       "      <th>smallDefects</th>\n",
       "      <th>largeDefects</th>\n",
       "      <th>sliverDefects</th>\n",
       "      <th>seedLocation</th>\n",
       "      <th>castType</th>\n",
       "    </tr>\n",
       "  </thead>\n",
       "  <tbody>\n",
       "    <tr>\n",
       "      <th>0</th>\n",
       "      <td>284.161690</td>\n",
       "      <td>Blade</td>\n",
       "      <td>colGrain</td>\n",
       "      <td>25</td>\n",
       "      <td>4.460592</td>\n",
       "      <td>7.937116</td>\n",
       "      <td>22</td>\n",
       "      <td>0</td>\n",
       "      <td>7</td>\n",
       "      <td>Top</td>\n",
       "      <td>Investment</td>\n",
       "    </tr>\n",
       "    <tr>\n",
       "      <th>1</th>\n",
       "      <td>1599.551748</td>\n",
       "      <td>Blade</td>\n",
       "      <td>singleGrain</td>\n",
       "      <td>9</td>\n",
       "      <td>1.425973</td>\n",
       "      <td>2.432948</td>\n",
       "      <td>2</td>\n",
       "      <td>0</td>\n",
       "      <td>0</td>\n",
       "      <td>Bottom</td>\n",
       "      <td>Die</td>\n",
       "    </tr>\n",
       "    <tr>\n",
       "      <th>2</th>\n",
       "      <td>768.311031</td>\n",
       "      <td>Nozzle</td>\n",
       "      <td>colGrain</td>\n",
       "      <td>26</td>\n",
       "      <td>2.508879</td>\n",
       "      <td>3.841211</td>\n",
       "      <td>25</td>\n",
       "      <td>0</td>\n",
       "      <td>0</td>\n",
       "      <td>Bottom</td>\n",
       "      <td>Investment</td>\n",
       "    </tr>\n",
       "    <tr>\n",
       "      <th>3</th>\n",
       "      <td>1697.663828</td>\n",
       "      <td>Blade</td>\n",
       "      <td>colGrain</td>\n",
       "      <td>12</td>\n",
       "      <td>3.248913</td>\n",
       "      <td>2.610700</td>\n",
       "      <td>10</td>\n",
       "      <td>0</td>\n",
       "      <td>0</td>\n",
       "      <td>Bottom</td>\n",
       "      <td>Continuous</td>\n",
       "    </tr>\n",
       "    <tr>\n",
       "      <th>4</th>\n",
       "      <td>1491.478862</td>\n",
       "      <td>Nozzle</td>\n",
       "      <td>colGrain</td>\n",
       "      <td>20</td>\n",
       "      <td>1.901670</td>\n",
       "      <td>4.634926</td>\n",
       "      <td>24</td>\n",
       "      <td>0</td>\n",
       "      <td>0</td>\n",
       "      <td>Top</td>\n",
       "      <td>Die</td>\n",
       "    </tr>\n",
       "  </tbody>\n",
       "</table>\n",
       "</div>"
      ],
      "text/plain": [
       "      Lifespan partType microstructure  coolingRate  quenchTime  forgeTime  \\\n",
       "0   284.161690    Blade       colGrain           25    4.460592   7.937116   \n",
       "1  1599.551748    Blade    singleGrain            9    1.425973   2.432948   \n",
       "2   768.311031   Nozzle       colGrain           26    2.508879   3.841211   \n",
       "3  1697.663828    Blade       colGrain           12    3.248913   2.610700   \n",
       "4  1491.478862   Nozzle       colGrain           20    1.901670   4.634926   \n",
       "\n",
       "   smallDefects  largeDefects  sliverDefects seedLocation    castType  \n",
       "0            22             0              7          Top  Investment  \n",
       "1             2             0              0       Bottom         Die  \n",
       "2            25             0              0       Bottom  Investment  \n",
       "3            10             0              0       Bottom  Continuous  \n",
       "4            24             0              0          Top         Die  "
      ]
     },
     "execution_count": 5,
     "metadata": {},
     "output_type": "execute_result"
    }
   ],
   "source": [
    "df.head()"
   ]
  },
  {
   "cell_type": "code",
   "execution_count": 59,
   "id": "330c35fc",
   "metadata": {},
   "outputs": [],
   "source": [
    "X = df.drop(\"Lifespan\", axis =1)\n",
    "y = df[\"Lifespan\"]"
   ]
  },
  {
   "cell_type": "code",
   "execution_count": 61,
   "id": "0bedc678",
   "metadata": {},
   "outputs": [
    {
     "name": "stdout",
     "output_type": "stream",
     "text": [
      "partType has ['Blade' 'Nozzle' 'Block' 'Valve'] unique data values\n",
      "microstructure has ['colGrain' 'singleGrain' 'equiGrain'] unique data values\n",
      "seedLocation has ['Top' 'Bottom'] unique data values\n",
      "castType has ['Investment' 'Die' 'Continuous'] unique data values\n",
      "\n",
      "\n",
      "There is 6 numerical features: ['coolingRate', 'quenchTime', 'forgeTime', 'smallDefects', 'largeDefects', 'sliverDefects']\n",
      "\n",
      "There is 4 categorical features: ['partType', 'microstructure', 'seedLocation', 'castType']\n"
     ]
    }
   ],
   "source": [
    "#create a list of categorical and non categorical features\n",
    "categorical_feature = [feature for feature in X.columns if df[feature].dtype == 'O']\n",
    "numerical_feature = [feature for feature in X.columns if df[feature].dtype != 'O']\n",
    "for i in categorical_feature :\n",
    "  #print out the unique values in each categorical columns  \n",
    "  print(\"{col} has {vals} unique data values\".format(col=i, vals= df[i].unique()))\n",
    "\n",
    "print(\"\\n\")\n",
    "\n",
    "print(\"There is {} numerical features: {}\".format(len(numerical_feature),numerical_feature))\n",
    "print(\"\\nThere is {} categorical features: {}\".format(len(categorical_feature),categorical_feature))"
   ]
  },
  {
   "cell_type": "code",
   "execution_count": 62,
   "id": "d6d8e6b1",
   "metadata": {},
   "outputs": [],
   "source": [
    "X.loc[df['partType'] == \"Blade\" , \"partType_new\"] = 1\n",
    "X.loc[df['partType'] == \"Nozzle\" , \"partType_new\"] = 2\n",
    "X.loc[df['partType'] == \"Block\" , \"partType_new\"] = 3\n",
    "X.loc[df['partType'] == \"Valve\" , \"partType_new\"] = 4\n",
    "\n",
    "X.loc[df['microstructure'] == \"colGrain\" , \"microstructure_new\"] = 1\n",
    "X.loc[df['microstructure'] == \"singleGrain\" , \"microstructure_new\"] = 2\n",
    "X.loc[df['microstructure'] == \"equiGrain\" , \"microstructure_new\"] = 3\n",
    "\n",
    "X.loc[df['seedLocation'] == \"Top\" , \"seedLocation_new\"] = 1\n",
    "X.loc[df['seedLocation'] == \"Bottom\" , \"seedLocation_new\"] = 2\n",
    "\n",
    "X.loc[df['castType'] == \"Investment\" , \"castType_new\"] = 1\n",
    "X.loc[df['castType'] == \"Die\" , \"castType_new\"] = 2\n",
    "X.loc[df['castType'] == \"Continuous\" , \"castType_new\"] = 3"
   ]
  },
  {
   "cell_type": "code",
   "execution_count": 63,
   "id": "37c22646",
   "metadata": {},
   "outputs": [],
   "source": [
    "X.drop(categorical_feature, axis=1, inplace=True)"
   ]
  },
  {
   "cell_type": "code",
   "execution_count": 64,
   "id": "1d42e554",
   "metadata": {},
   "outputs": [],
   "source": [
    "X_train, X_test, y_train, y_test = train_test_split(X, y, test_size=0.2, random_state=2)"
   ]
  },
  {
   "cell_type": "code",
   "execution_count": 66,
   "id": "7428b677",
   "metadata": {},
   "outputs": [],
   "source": [
    "rf = RandomForestRegressor(n_estimators= 10)"
   ]
  },
  {
   "cell_type": "code",
   "execution_count": 67,
   "id": "5990cb17",
   "metadata": {},
   "outputs": [
    {
     "data": {
      "text/plain": [
       "0.965532567928479"
      ]
     },
     "execution_count": 67,
     "metadata": {},
     "output_type": "execute_result"
    }
   ],
   "source": [
    "rf.fit(X_train, y_train)\n",
    "y_pred = rf.predict(X_test)\n",
    "r2_score_error = r2_score(y_test,y_pred)\n",
    "r2_score_error"
   ]
  },
  {
   "cell_type": "code",
   "execution_count": 28,
   "id": "c885c82d",
   "metadata": {},
   "outputs": [],
   "source": [
    "from sklearn.preprocessing import OneHotEncoder, StandardScaler\n",
    "from sklearn.compose import ColumnTransformer\n",
    "numerical_tranformer = StandardScaler()\n",
    "oh_tranformer =  OneHotEncoder()"
   ]
  },
  {
   "cell_type": "code",
   "execution_count": 68,
   "id": "af723243",
   "metadata": {},
   "outputs": [],
   "source": [
    "preprocessor = ColumnTransformer(\n",
    "    [\n",
    "        (\"OneHotEncoder\", oh_tranformer,categorical_feature ),\n",
    "        (\"StandardScalar\", numerical_tranformer,numerical_feature)\n",
    "    ]\n",
    ")"
   ]
  },
  {
   "cell_type": "code",
   "execution_count": 69,
   "id": "598e0026",
   "metadata": {},
   "outputs": [],
   "source": [
    "df = df_copy.copy()"
   ]
  },
  {
   "cell_type": "code",
   "execution_count": 70,
   "id": "3d642f72",
   "metadata": {},
   "outputs": [],
   "source": [
    "X = df.drop(\"Lifespan\", axis=1)"
   ]
  },
  {
   "cell_type": "code",
   "execution_count": 71,
   "id": "6b63987e",
   "metadata": {},
   "outputs": [],
   "source": [
    "y = df[\"Lifespan\"]"
   ]
  },
  {
   "cell_type": "code",
   "execution_count": 73,
   "id": "8490ea8c",
   "metadata": {},
   "outputs": [
    {
     "data": {
      "text/plain": [
       "(1000, 10)"
      ]
     },
     "execution_count": 73,
     "metadata": {},
     "output_type": "execute_result"
    }
   ],
   "source": [
    "X.shape"
   ]
  },
  {
   "cell_type": "code",
   "execution_count": 74,
   "id": "e0b56b97",
   "metadata": {},
   "outputs": [],
   "source": [
    "x = preprocessor.fit_transform(X)"
   ]
  },
  {
   "cell_type": "code",
   "execution_count": 81,
   "id": "f0077e6c",
   "metadata": {},
   "outputs": [],
   "source": [
    "X_train, X_test, y_train, y_test = train_test_split(x, y, test_size=0.2, random_state=2)"
   ]
  },
  {
   "cell_type": "code",
   "execution_count": 84,
   "id": "d010899f",
   "metadata": {},
   "outputs": [
    {
     "data": {
      "text/plain": [
       "0.9696472118686223"
      ]
     },
     "execution_count": 84,
     "metadata": {},
     "output_type": "execute_result"
    }
   ],
   "source": [
    "rf.fit(X_train, y_train)\n",
    "y_pred = rf.predict(X_test)\n",
    "r2_score_error = r2_score(y_test,y_pred)\n",
    "r2_score_error"
   ]
  },
  {
   "cell_type": "code",
   "execution_count": 89,
   "id": "c6685413",
   "metadata": {},
   "outputs": [],
   "source": [
    "model_name = []\n",
    "model_r2Score = []\n",
    "model_obj = []\n",
    "def train_model(name,model,X,y,test_X,test_y):\n",
    "  #print(X)\n",
    "  model.fit(X, y)\n",
    "  ypred = model.predict(test_X)\n",
    "  r2_score_error = r2_score(test_y,ypred)\n",
    "  model_name.append(name)\n",
    "  model_r2Score.append(r2_score_error)\n",
    "  model_obj.append(model)\n",
    "  print(\"{model} : Has R2 Score value of {R2}\".format(model=name, R2= r2_score_error))"
   ]
  },
  {
   "cell_type": "code",
   "execution_count": 90,
   "id": "143eef43",
   "metadata": {},
   "outputs": [
    {
     "name": "stdout",
     "output_type": "stream",
     "text": [
      "LinearRegression : Has R2 Score value of 0.7794791432510201\n",
      "Laso : Has R2 Score value of 0.7789960542117983\n",
      "RandomForest : Has R2 Score value of 0.9709220863958242\n",
      "SVR : Has R2 Score value of 0.006972722162225997\n"
     ]
    },
    {
     "data": {
      "text/plain": [
       "Text(0, 0.5, 'R2 Score')"
      ]
     },
     "execution_count": 90,
     "metadata": {},
     "output_type": "execute_result"
    },
    {
     "data": {
      "image/png": "[encoded data removed]",
      "text/plain": [
       "<Figure size 640x480 with 1 Axes>"
      ]
     },
     "metadata": {},
     "output_type": "display_data"
    }
   ],
   "source": [
    "#X = df_type2.drop(\"Lifespan\", axis=1)\n",
    "#y = df_type2[\"Lifespan\"]\n",
    "#X_train, X_test, y_train, y_test = train_test_split(X, y, test_size=0.2, random_state=0)\n",
    "\n",
    "model_r2Score.clear()\n",
    "model_name.clear()\n",
    "model_obj.clear()\n",
    "models = {\"LinearRegression\": LinearRegression(positive=False, fit_intercept= True),\n",
    "            \"Laso\": Lasso(alpha=1.1, selection = \"random\", max_iter=1500),\n",
    "            \"RandomForest\": RandomForestRegressor(n_estimators= 10),\n",
    "            \"SVR\": SVR(kernel=\"poly\",degree=3, gamma=\"auto\" )\n",
    "          }\n",
    "\n",
    "for i in range(len(list(models.values()))):\n",
    "  model =  list(models.values())[i]\n",
    "  m_name = list(models.keys())[i]\n",
    "  train_model(m_name,model,X_train, y_train,X_test, y_test)\n",
    "\n",
    "plt.bar(model_name,model_r2Score)\n",
    "plt.title(\"Model Training Result without sliverDefects and largeDefects features\")\n",
    "plt.xlabel(\"Trained Model\")\n",
    "plt.ylabel(\"R2 Score\")"
   ]
  },
  {
   "cell_type": "code",
   "execution_count": null,
   "id": "cb5ef0dc",
   "metadata": {},
   "outputs": [],
   "source": []
  }
 ],
 "metadata": {
  "kernelspec": {
   "display_name": "Python 3 (ipykernel)",
   "language": "python",
   "name": "python3"
  },
  "language_info": {
   "codemirror_mode": {
    "name": "ipython",
    "version": 3
   },
   "file_extension": ".py",
   "mimetype": "text/x-python",
   "name": "python",
   "nbconvert_exporter": "python",
   "pygments_lexer": "ipython3",
   "version": "3.8.0"
  }
 },
 "nbformat": 4,
 "nbformat_minor": 5
}
